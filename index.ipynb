{
 "cells": [
  {
   "cell_type": "markdown",
   "metadata": {},
   "source": [
    "# CENG798: SPECIAL TOPICS IN COMPUTER ENGINEERING: QUANTUM COMPUTING \n",
    "\n",
    "\n",
    "### Notebooks:\n",
    "\n",
    "1. [Review](notebooks/1-Review.ipynb)\n",
    "\n",
    "2. [Simple Qubit Operations](notebooks/2-Simple_Qubit_Ops.ipynb)\n",
    "\n",
    "3. [Measurements in Quantum Computing](notebooks/3-Measurements.ipynb)\n",
    "\n",
    "4. [Backends in Qiskit](notebooks/4-Backends.ipynb)\n",
    "\n",
    "### Videos:\n"
   ]
  }
 ],
 "metadata": {
  "kernelspec": {
   "display_name": "Python 3",
   "language": "python",
   "name": "python3"
  },
  "language_info": {
   "codemirror_mode": {
    "name": "ipython",
    "version": 3
   },
   "file_extension": ".py",
   "mimetype": "text/x-python",
   "name": "python",
   "nbconvert_exporter": "python",
   "pygments_lexer": "ipython3",
   "version": "3.8.2"
  }
 },
 "nbformat": 4,
 "nbformat_minor": 4
}
