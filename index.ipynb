{
 "cells": [
  {
   "cell_type": "markdown",
   "metadata": {},
   "source": [
    "# CENG798: SPECIAL TOPICS IN COMPUTER ENGINEERING: QUANTUM COMPUTING \n",
    "\n",
    "\n",
    "### Notebooks:\n",
    "\n",
    "1. [Review](notebooks/1-Review.ipynb)\n",
    "\n",
    "2. [Simple Qubit Operations](notebooks/2-Simple_Qubit_Ops.ipynb)\n",
    "\n",
    "3. [Measurements in Quantum Computing](notebooks/3-Measurements.ipynb)\n",
    "\n",
    "4. [Backends in Qiskit](notebooks/4-Backends.ipynb)\n",
    "\n",
    "5. [Quantum Teleportation](notebooks/5-Quantum_Teleportation.ipynb)\n",
    "\n",
    "6. [Superdense Coding](notebooks/6-Superdense_Coding.ipynb)\n",
    "\n",
    "### Videos:\n",
    "\n",
    "#### Part 1: Introduction & Review:           \n",
    "\n",
    "[![IMAGE ALT TEXT](http://img.youtube.com/vi/qSOJMcaexrg/0.jpg)](http://www.youtube.com/watch?v=qSOJMcaexrg) \n",
    "\n",
    "#### Part 2: Simple Qubit Operations:\n",
    "\n",
    "[![IMAGE ALT TEXT](http://img.youtube.com/vi/Gm47G03w9VU/0.jpg)](http://www.youtube.com/watch?v=Gm47G03w9VU)\n",
    "\n",
    "#### Part 3: Measurements in Quantum Computing:\n",
    "\n",
    "[![IMAGE ALT TEXT](http://img.youtube.com/vi/JVFbOJOpJ7g/0.jpg)](http://www.youtube.com/watch?v=JVFbOJOpJ7g)\n",
    "\n",
    "#### Part 4: Backends in Qiskit:\n",
    "\n",
    "[![IMAGE ALT TEXT](http://img.youtube.com/vi/NOFxY_VZjpU/0.jpg)](http://www.youtube.com/watch?v=NOFxY_VZjpU)\n",
    "\n",
    "#### Part 5: Quantum Teleportation:\n",
    "\n",
    "[![IMAGE ALT TEXT](http://img.youtube.com/vi/eHcDKsId5RQ/0.jpg)](http://www.youtube.com/watch?v=eHcDKsId5RQ)\n",
    "\n",
    "#### Part 6: Superdense Coding:\n",
    "\n",
    "[![IMAGE ALT TEXT](http://img.youtube.com/vi/4Equ6lHC9vw/0.jpg)](http://www.youtube.com/watch?v=4Equ6lHC9vw)\n"
   ]
  }
 ],
 "metadata": {
  "kernelspec": {
   "display_name": "Python 3",
   "language": "python",
   "name": "python3"
  },
  "language_info": {
   "codemirror_mode": {
    "name": "ipython",
    "version": 3
   },
   "file_extension": ".py",
   "mimetype": "text/x-python",
   "name": "python",
   "nbconvert_exporter": "python",
   "pygments_lexer": "ipython3",
   "version": "3.8.2"
  }
 },
 "nbformat": 4,
 "nbformat_minor": 4
}
