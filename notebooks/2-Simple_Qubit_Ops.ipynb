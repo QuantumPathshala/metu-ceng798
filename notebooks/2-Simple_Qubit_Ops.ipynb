{
 "cells": [
  {
   "cell_type": "markdown",
   "metadata": {},
   "source": [
    "<table>\n",
    "    <tr><td align=\"right\" style=\"color:#777777;background-color:#ffffff;font-size:12px;\">\n",
    "          Prepared by Cenk Tüysüz\n",
    "    <tr><td align=\"right\" style=\"color:#bbbbbb;background-color:#ffffff;font-size:11px;font-style:italic;\">\n",
    "        This cell contains some macros. If there is a problem with displaying mathematical formulas, please run this cell to load these macros.\n",
    "    </td></tr>\n",
    "</table>\n",
    "$ \\newcommand{\\bra}[1]{\\langle #1|} $\n",
    "$ \\newcommand{\\ket}[1]{|#1\\rangle} $\n",
    "$ \\newcommand{\\braket}[2]{\\langle #1|#2\\rangle} $\n",
    "$ \\newcommand{\\dot}[2]{ #1 \\cdot #2} $\n",
    "$ \\newcommand{\\biginner}[2]{\\left\\langle #1,#2\\right\\rangle} $\n",
    "$ \\newcommand{\\mymatrix}[2]{\\left( \\begin{array}{#1} #2\\end{array} \\right)} $\n",
    "$ \\newcommand{\\myvector}[1]{\\mymatrix{c}{#1}} $\n",
    "$ \\newcommand{\\myrvector}[1]{\\mymatrix{r}{#1}} $\n",
    "$ \\newcommand{\\mypar}[1]{\\left( #1 \\right)} $\n",
    "$ \\newcommand{\\mybigpar}[1]{ \\Big( #1 \\Big)} $\n",
    "$ \\newcommand{\\sqrttwo}{\\frac{1}{\\sqrt{2}}} $\n",
    "$ \\newcommand{\\dsqrttwo}{\\dfrac{1}{\\sqrt{2}}} $\n",
    "$ \\newcommand{\\onehalf}{\\frac{1}{2}} $\n",
    "$ \\newcommand{\\donehalf}{\\dfrac{1}{2}} $\n",
    "$ \\newcommand{\\hadamard}{ \\mymatrix{rr}{ \\sqrttwo & \\sqrttwo \\\\ \\sqrttwo & -\\sqrttwo }} $\n",
    "$ \\newcommand{\\vzero}{\\myvector{1\\\\0}} $\n",
    "$ \\newcommand{\\vone}{\\myvector{0\\\\1}} $\n",
    "$ \\newcommand{\\vhadamardzero}{\\myvector{ \\sqrttwo \\\\  \\sqrttwo } } $\n",
    "$ \\newcommand{\\vhadamardone}{ \\myrvector{ \\sqrttwo \\\\ -\\sqrttwo } } $\n",
    "$ \\newcommand{\\myarray}[2]{ \\begin{array}{#1}#2\\end{array}} $\n",
    "$ \\newcommand{\\X}{ \\mymatrix{cc}{0 & 1 \\\\ 1 & 0}  } $\n",
    "$ \\newcommand{\\Z}{ \\mymatrix{rr}{1 & 0 \\\\ 0 & -1}  } $\n",
    "$ \\newcommand{\\Y}{ \\mymatrix{cc}{0 & -i \\\\ i & 0}  } $\n",
    "$ \\newcommand{\\Htwo}{ \\mymatrix{rrrr}{ \\frac{1}{2} & \\frac{1}{2} & \\frac{1}{2} & \\frac{1}{2} \\\\ \\frac{1}{2} & -\\frac{1}{2} & \\frac{1}{2} & -\\frac{1}{2} \\\\ \\frac{1}{2} & \\frac{1}{2} & -\\frac{1}{2} & -\\frac{1}{2} \\\\ \\frac{1}{2} & -\\frac{1}{2} & -\\frac{1}{2} & \\frac{1}{2} } } $\n",
    "$ \\newcommand{\\CNOT}{ \\mymatrix{cccc}{1 & 0 & 0 & 0 \\\\ 0 & 1 & 0 & 0 \\\\ 0 & 0 & 0 & 1 \\\\ 0 & 0 & 1 & 0} } $\n",
    "$ \\newcommand{\\norm}[1]{ \\left\\lVert #1 \\right\\rVert } $"
   ]
  },
  {
   "cell_type": "markdown",
   "metadata": {},
   "source": [
    "# Simple Qubit Operations using Qiskit"
   ]
  },
  {
   "cell_type": "markdown",
   "metadata": {},
   "source": [
    "In this notebook we will implement our first Quantum Circuit and investigate properties of Quantum Gates using Qiskit. Let's start by importing the library and make sure it is installed properly."
   ]
  },
  {
   "cell_type": "code",
   "execution_count": 1,
   "metadata": {},
   "outputs": [
    {
     "data": {
      "text/plain": [
       "'0.13.0'"
      ]
     },
     "execution_count": 1,
     "metadata": {},
     "output_type": "execute_result"
    }
   ],
   "source": [
    "import qiskit\n",
    "qiskit.__version__"
   ]
  },
  {
   "cell_type": "markdown",
   "metadata": {},
   "source": [
    "Now, we can start implementing our first circuit."
   ]
  },
  {
   "cell_type": "code",
   "execution_count": 2,
   "metadata": {},
   "outputs": [],
   "source": [
    "# import necessary objects from qiskit\n",
    "from qiskit import QuantumRegister, ClassicalRegister, QuantumCircuit, execute, Aer"
   ]
  },
  {
   "cell_type": "code",
   "execution_count": 3,
   "metadata": {},
   "outputs": [],
   "source": [
    "# Define a quantum circuit with two qubits and two bits\n",
    "\n",
    "# quantum register with two qubits\n",
    "qreg =  QuantumRegister(2)   \n",
    "# classical register with two bits\n",
    "creg = ClassicalRegister(2) \n",
    " # quantum circuit with quantum and classical registers\n",
    "qcircuit = QuantumCircuit(qreg,creg)"
   ]
  },
  {
   "cell_type": "markdown",
   "metadata": {},
   "source": [
    "Now, we are ready to apply Quantum Gates to the qubits."
   ]
  },
  {
   "cell_type": "code",
   "execution_count": 4,
   "metadata": {},
   "outputs": [],
   "source": [
    "# Apply an X Gate to the first qubit\n",
    "qcircuit.x(qreg[0]);"
   ]
  },
  {
   "cell_type": "markdown",
   "metadata": {},
   "source": [
    "We need to perform a measurement in order to learn to result of our operation."
   ]
  },
  {
   "cell_type": "code",
   "execution_count": 5,
   "metadata": {},
   "outputs": [],
   "source": [
    "# This operation will write the measurement result of qubits to correspoding classical registers.\n",
    "qcircuit.measure(qreg,creg);"
   ]
  },
  {
   "cell_type": "markdown",
   "metadata": {},
   "source": [
    "Let's have a look at the circuit, we've built, before executing it."
   ]
  },
  {
   "cell_type": "code",
   "execution_count": 6,
   "metadata": {},
   "outputs": [
    {
     "data": {
      "image/png": "[encoded data removed]",
      "text/plain": [
       "<Figure size 309.428x204.68 with 1 Axes>"
      ]
     },
     "execution_count": 6,
     "metadata": {},
     "output_type": "execute_result"
    }
   ],
   "source": [
    "# draw the circuit\n",
    "qcircuit.draw(output='mpl')"
   ]
  },
  {
   "cell_type": "markdown",
   "metadata": {},
   "source": [
    "Now, we can execute the circuit to get the result. We will execute the circuits with **shots=1**. This means that the circuit is executed only once. Since we do not expect a probabilistic result, it is totally fine to run it only once. We will talk about ths **shots** parameter in more detail later."
   ]
  },
  {
   "cell_type": "code",
   "execution_count": 7,
   "metadata": {},
   "outputs": [
    {
     "name": "stdout",
     "output_type": "stream",
     "text": [
      "{'01': 1}\n"
     ]
    }
   ],
   "source": [
    "# execute the circuit\n",
    "job = execute(qcircuit,Aer.get_backend('qasm_simulator'),shots=1)\n",
    "\n",
    "# print the results\n",
    "counts = job.result().get_counts(qcircuit)\n",
    "print(counts)"
   ]
  },
  {
   "cell_type": "markdown",
   "metadata": {},
   "source": [
    "As expected, the first qubit (numbering is from right to left) is flipped and got the value 1, while the second qubit remaind as 0. Also notice that; In qiskit, qubits are initially in $\\ket{0}$ state.\n",
    "\n",
    "The measurement results are stored in the counts dictionary. It stores how many time a certain state is observed. Although, there are many superposition states available through qubits, the result of a measurement can be only 0 or 1. Therefore, for superposition states we might observe a different outcome everytime we execute the circuit. \n",
    "\n",
    "Let's investigate a superposition state using the Hadamard Gate. We will setup a similart circuit using only one qubit."
   ]
  },
  {
   "cell_type": "code",
   "execution_count": 8,
   "metadata": {},
   "outputs": [
    {
     "data": {
      "image/png": "[encoded data removed]",
      "text/plain": [
       "<Figure size 244.412x144.48 with 1 Axes>"
      ]
     },
     "execution_count": 8,
     "metadata": {},
     "output_type": "execute_result"
    }
   ],
   "source": [
    "qreg =  QuantumRegister(1)   \n",
    "creg = ClassicalRegister(1) \n",
    "qcircuit = QuantumCircuit(qreg,creg)\n",
    "qcircuit.h(qreg)\n",
    "qcircuit.measure(qreg,creg)\n",
    "qcircuit.draw(output='mpl')"
   ]
  },
  {
   "cell_type": "markdown",
   "metadata": {},
   "source": [
    "Now, lets choose **shots=100** and observe how many 0's and 1's we will measure. "
   ]
  },
  {
   "cell_type": "code",
   "execution_count": 9,
   "metadata": {},
   "outputs": [
    {
     "name": "stdout",
     "output_type": "stream",
     "text": [
      "{'0': 51, '1': 49}\n"
     ]
    }
   ],
   "source": [
    "job = execute(qcircuit,Aer.get_backend('qasm_simulator'),shots=100)\n",
    "counts = job.result().get_counts(qcircuit)\n",
    "print(counts)"
   ]
  },
  {
   "cell_type": "markdown",
   "metadata": {},
   "source": [
    "The outcome resulted in an almost 50/50 division between 0 and 1. Exact 50/50 division is what we expect from theory:\n",
    "\n",
    "$$ H \\ket{0} = \\frac{1}{\\sqrt{2}} \\ket{0} + \\frac{1}{\\sqrt{2}} \\ket{1} $$\n",
    "\n",
    "$$ P(0) = \\norm{1/\\sqrt{2}}^2 = 0.5 $$\n",
    "$$ P(1) = \\norm{1/\\sqrt{2}}^2 = 0.5 $$\n",
    "\n",
    "Why we didn't get exactly 50/50 ratio is related to finite precision and nothing the do with Quantum Computing. Note that this is an ideal simulation where we don't observe any noise effects. You can try to increase the paramter **shots** and observe that the ratio of measurement results approach to 1."
   ]
  },
  {
   "cell_type": "markdown",
   "metadata": {},
   "source": [
    "Now, let's try to use the $R_y$ gate and compare the results with theoretical outcome.\n",
    "\n",
    "Choose $\\theta=\\pi/3$. Then what we expect as the final state is the following:\n",
    "\n",
    "\n",
    "$$ R_y(\\pi/3) = \\mymatrix{cc}{cos(\\pi/6) & -sin(\\pi/6) \\\\ sin(\\pi/6) & cos(\\pi/6)} = \\mymatrix{cc}{0.866 & -0.5 \\\\ 0.5 & 0.866} $$\n",
    "\n",
    "Then:\n",
    "\n",
    "$$ R_y(\\pi/3)\\ket{0} = 0.866\\ket{0} + 0.5\\ket{1} $$\n",
    "\n",
    "$$ P(0) = \\norm{\\sqrt{3}/2}^2 = 0.75 $$\n",
    "\n",
    "$$ P(1) = \\norm{1/2}^2 = 0.25 $$\n",
    "\n",
    "Let's try to get the same result by using qiskit:"
   ]
  },
  {
   "cell_type": "code",
   "execution_count": 10,
   "metadata": {},
   "outputs": [
    {
     "name": "stdout",
     "output_type": "stream",
     "text": [
      "{'0': 787, '1': 213}\n"
     ]
    }
   ],
   "source": [
    "import math\n",
    "qreg =  QuantumRegister(1)   \n",
    "creg = ClassicalRegister(1) \n",
    "qcircuit = QuantumCircuit(qreg,creg)\n",
    "qcircuit.ry(math.pi/3,qreg)\n",
    "qcircuit.measure(qreg,creg)\n",
    "job = execute(qcircuit,Aer.get_backend('qasm_simulator'),shots=1000)\n",
    "counts = job.result().get_counts(qcircuit)\n",
    "print(counts)"
   ]
  },
  {
   "cell_type": "code",
   "execution_count": 11,
   "metadata": {},
   "outputs": [
    {
     "data": {
      "image/png": "[encoded data removed]",
      "text/plain": [
       "<Figure size 504x360 with 1 Axes>"
      ]
     },
     "execution_count": 11,
     "metadata": {},
     "output_type": "execute_result"
    }
   ],
   "source": [
    "# Plot measurement results to a Histogram\n",
    "from qiskit.visualization import plot_histogram\n",
    "plot_histogram(counts)"
   ]
  },
  {
   "cell_type": "markdown",
   "metadata": {},
   "source": [
    "We have obtained the results we were expecting from the theory."
   ]
  }
 ],
 "metadata": {
  "kernelspec": {
   "display_name": "Python 3",
   "language": "python",
   "name": "python3"
  },
  "language_info": {
   "codemirror_mode": {
    "name": "ipython",
    "version": 3
   },
   "file_extension": ".py",
   "mimetype": "text/x-python",
   "name": "python",
   "nbconvert_exporter": "python",
   "pygments_lexer": "ipython3",
   "version": "3.8.2"
  }
 },
 "nbformat": 4,
 "nbformat_minor": 4
}
