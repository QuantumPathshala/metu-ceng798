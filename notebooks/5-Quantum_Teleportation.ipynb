{
 "cells": [
  {
   "cell_type": "markdown",
   "metadata": {},
   "source": [
    "<table>\n",
    "    <tr><td align=\"right\" style=\"color:#777777;background-color:#ffffff;font-size:12px;\">\n",
    "        Originially prepared for Bronze Material of QWorld by\n",
    "        Abuzer Yakaryilmaz, Özlem Salehi, Melis Pahalı, Cenk Tüysüz<br>\n",
    "        Modified for CENG798 by Cenk Tüysüz\n",
    "    </td></tr>\n",
    "    <tr><td align=\"right\" style=\"color:#bbbbbb;background-color:#ffffff;font-size:11px;font-style:italic;\">\n",
    "        This cell contains some macros. If there is a problem with displaying mathematical formulas, please run this cell to load these macros.\n",
    "    </td></tr>\n",
    "</table>\n",
    "$ \\newcommand{\\bra}[1]{\\langle #1|} $\n",
    "$ \\newcommand{\\ket}[1]{|#1\\rangle} $\n",
    "$ \\newcommand{\\braket}[2]{\\langle #1|#2\\rangle} $\n",
    "$ \\newcommand{\\dot}[2]{ #1 \\cdot #2} $\n",
    "$ \\newcommand{\\biginner}[2]{\\left\\langle #1,#2\\right\\rangle} $\n",
    "$ \\newcommand{\\mymatrix}[2]{\\left( \\begin{array}{#1} #2\\end{array} \\right)} $\n",
    "$ \\newcommand{\\myvector}[1]{\\mymatrix{c}{#1}} $\n",
    "$ \\newcommand{\\myrvector}[1]{\\mymatrix{r}{#1}} $\n",
    "$ \\newcommand{\\mypar}[1]{\\left( #1 \\right)} $\n",
    "$ \\newcommand{\\mybigpar}[1]{ \\Big( #1 \\Big)} $\n",
    "$ \\newcommand{\\sqrttwo}{\\frac{1}{\\sqrt{2}}} $\n",
    "$ \\newcommand{\\dsqrttwo}{\\dfrac{1}{\\sqrt{2}}} $\n",
    "$ \\newcommand{\\onehalf}{\\frac{1}{2}} $\n",
    "$ \\newcommand{\\donehalf}{\\dfrac{1}{2}} $\n",
    "$ \\newcommand{\\hadamard}{ \\mymatrix{rr}{ \\sqrttwo & \\sqrttwo \\\\ \\sqrttwo & -\\sqrttwo }} $\n",
    "$ \\newcommand{\\vzero}{\\myvector{1\\\\0}} $\n",
    "$ \\newcommand{\\vone}{\\myvector{0\\\\1}} $\n",
    "$ \\newcommand{\\vhadamardzero}{\\myvector{ \\sqrttwo \\\\  \\sqrttwo } } $\n",
    "$ \\newcommand{\\vhadamardone}{ \\myrvector{ \\sqrttwo \\\\ -\\sqrttwo } } $\n",
    "$ \\newcommand{\\myarray}[2]{ \\begin{array}{#1}#2\\end{array}} $\n",
    "$ \\newcommand{\\X}{ \\mymatrix{cc}{0 & 1 \\\\ 1 & 0}  } $\n",
    "$ \\newcommand{\\Z}{ \\mymatrix{rr}{1 & 0 \\\\ 0 & -1}  } $\n",
    "$ \\newcommand{\\Htwo}{ \\mymatrix{rrrr}{ \\frac{1}{2} & \\frac{1}{2} & \\frac{1}{2} & \\frac{1}{2} \\\\ \\frac{1}{2} & -\\frac{1}{2} & \\frac{1}{2} & -\\frac{1}{2} \\\\ \\frac{1}{2} & \\frac{1}{2} & -\\frac{1}{2} & -\\frac{1}{2} \\\\ \\frac{1}{2} & -\\frac{1}{2} & -\\frac{1}{2} & \\frac{1}{2} } } $\n",
    "$ \\newcommand{\\CNOT}{ \\mymatrix{cccc}{1 & 0 & 0 & 0 \\\\ 0 & 1 & 0 & 0 \\\\ 0 & 0 & 0 & 1 \\\\ 0 & 0 & 1 & 0} } $\n",
    "$ \\newcommand{\\norm}[1]{ \\left\\lVert #1 \\right\\rVert } $"
   ]
  },
  {
   "cell_type": "markdown",
   "metadata": {},
   "source": [
    "<h2>Quantum Teleportation</h2>"
   ]
  },
  {
   "cell_type": "markdown",
   "metadata": {},
   "source": [
    "Asja wants to send a qubit to Balvis by using only classical communication.\n",
    "\n",
    "Let $ \\ket{v} = \\myvector{a\\\\ b} \\in \\mathbb{R}^2 $ be the quantum state of Asja's qubit.\n",
    "\n",
    "If Asja has many copies of this qubit, then she can collect the statistics based on these qubits and obtain an approximation of $ a $ and $ b $, say $ \\tilde{a} $ and $\\tilde{b}$, respectively. After this, Asja can send $ \\tilde{a} $ and $\\tilde{b}$ by using many classical bits, the number of which depends on the precision of the amplitudes. "
   ]
  },
  {
   "cell_type": "markdown",
   "metadata": {},
   "source": [
    "On the other hand, If Asja and Balvis share the entangled qubits in state $ \\sqrttwo\\ket{00} + \\sqrttwo\\ket{11} $ in advance, then it is possible for Balvis to create $ \\ket{v} $ in his qubit after receiving two bits of information from Asja."
   ]
  },
  {
   "cell_type": "markdown",
   "metadata": {},
   "source": [
    "<h3>What is quantum teleportation?</h3>\n",
    "\n",
    "It is the process of transmission of quantum information, that is the state of a qubit, using classical communication and previously entangled qubits.\n",
    "\n",
    "The state of a qubit is transfered onto another qubit, while the state of the source qubit is destroyed. \n",
    "\n",
    "Note that we never obtain multiple copies of the same qubit - \"No Cloning Theorem\".\n",
    "\n",
    "<a href = \"https://www.nature.com/news/quantum-teleportation-is-even-weirder-than-you-think-1.22321\">Read more </a>"
   ]
  },
  {
   "cell_type": "markdown",
   "metadata": {},
   "source": [
    "<h3> Protocol </h3>"
   ]
  },
  {
   "cell_type": "markdown",
   "metadata": {},
   "source": [
    "Asja has two qubits and Balvis has one qubit.\n",
    "\n",
    "Asja wants to send her first qubit which is in state $ \\ket{v} = \\myvector{a\\\\b} = a\\ket{0} + b\\ket{1} $.\n",
    "\n",
    "Asja's second qubit and Balvis' qubit are entangled. The quantum state of Asja's second qubit and Balvis' qubit is  $ \\sqrttwo\\ket{00} + \\sqrttwo\\ket{11} $.\n",
    "\n",
    "So, the state of the three qubits is\n",
    "\n",
    "$$ \\mypar{a\\ket{0} + b\\ket{1}}\\mypar{\\sqrttwo\\ket{00} + \\sqrttwo\\ket{11}} \n",
    "    = \\sqrttwo \\big( a\\ket{000} + a \\ket{011} + b\\ket{100} + b \\ket{111} \\big)  $$"
   ]
  },
  {
   "cell_type": "markdown",
   "metadata": {},
   "source": [
    "<h4> CNOT operator by Asja </h4>\n",
    "\n",
    "Asja applies CNOT gate to her qubits where her first qubit is the control qubit and her second qubit is the target qubit.\n",
    "\n",
    "$$ \\sqrttwo \\big( a\\ket{000} + a \\ket{011} + b\\ket{110} + b \\ket{101} \\big) $$"
   ]
  },
  {
   "cell_type": "markdown",
   "metadata": {},
   "source": [
    "<h4>Hadamard operator by Asja</h4>\n",
    "\n",
    "Asja applies Hadamard gate to her first qubit.\n",
    "\n",
    "$$  \n",
    "    \\frac{1}{2} \\ket{00} \\big( a\\ket{0}+b\\ket{1} \\big) +\n",
    "    \\frac{1}{2} \\ket{01} \\big( a\\ket{1}+b\\ket{0} \\big) +\n",
    "    \\frac{1}{2} \\ket{10} \\big( a\\ket{0}-b\\ket{1} \\big) +\n",
    "    \\frac{1}{2} \\ket{11} \\big( a\\ket{1}-b\\ket{0} \\big)\n",
    "$$"
   ]
  },
  {
   "cell_type": "markdown",
   "metadata": {},
   "source": [
    "<h3> Measurement by Asja </h3>\n",
    "\n",
    "Asja measures her qubits. With probability $ \\frac{1}{4} $, she can observe one of the basis states.\n",
    "\n",
    "Depeding on the measurement outcomes, Balvis' qubit is in the following states:\n",
    "<ol>\n",
    "    <li> \"00\": $ \\ket{v_{00}} = a\\ket{0} + b \\ket{1} $ </li>\n",
    "    <li> \"01\": $ \\ket{v_{01}} =  a\\ket{1} + b \\ket{0} $ </li>\n",
    "    <li> \"10\": $ \\ket{v_{10}} =  a\\ket{0} - b \\ket{1} $ </li>\n",
    "    <li> \"11\": $ \\ket{v_{11}} =  a\\ket{1} - b \\ket{0} $ </li>\n",
    "</ol>"
   ]
  },
  {
   "cell_type": "markdown",
   "metadata": {},
   "source": [
    "As can be observed, the amplitudes $ a $ and $ b $ are \"transferred\" to Balvis' qubit in any case.\n",
    "\n",
    "If Asja sends the measurement outcomes, then Balvis can construct $ \\ket{v} $ exactly."
   ]
  },
  {
   "cell_type": "markdown",
   "metadata": {},
   "source": [
    "Now let's implement Quantum Teleportation protocol. We will use state vector simulator to confirm that we reconstructed the state perfectly."
   ]
  },
  {
   "cell_type": "code",
   "execution_count": 1,
   "metadata": {
    "scrolled": true
   },
   "outputs": [
    {
     "name": "stdout",
     "output_type": "stream",
     "text": [
      "Picked angle is 74 degrees, 1.2915 radians.\n",
      "\n",
      "Then, to be teleported state is (0.275637)|0>+(0.961262)|1>\n",
      "\n",
      "The state we encoded is: (0.2756)|000> + (0.9613)|100>\n",
      "\n",
      "The values of classical registers by statevector_simulator:\n",
      "{'1 0': 1}\n",
      "Notice that qiskit prints the states in reverse order!\n",
      "\n",
      "The final state is:\n",
      "(0.0000)|000>\n",
      "(0.0000)|001>\n",
      "(0.2756)|010>\n",
      "(0.9613)|011>\n",
      "(0.0000)|100>\n",
      "(0.0000)|101>\n",
      "(0.0000)|110>\n",
      "(0.0000)|111>\n"
     ]
    }
   ],
   "source": [
    "from qiskit import QuantumCircuit,QuantumRegister,ClassicalRegister,execute,Aer\n",
    "from random import randrange\n",
    "from math import sin,cos,pi\n",
    "\n",
    "\n",
    "# We start with 3 quantum registers\n",
    "qreg=QuantumRegister(3)\n",
    "simulator = Aer.get_backend('statevector_simulator')\n",
    "\n",
    "# All the quantum registers are in |0> state. We create a random qubit to teleport and an entangled state.\n",
    "# We pick a random angle.\n",
    "d=randrange(360) \n",
    "r=2*pi*d/360\n",
    "print('Picked angle is %d degrees, %.4f radians.\\n'%(d,r))\n",
    "\n",
    "# The amplitudes of the angle.\n",
    "x=cos(r)\n",
    "y=sin(r)\n",
    "print('Then, to be teleported state is (%f)|0>+(%f)|1>\\n' %(x,y))\n",
    "\n",
    "c0=ClassicalRegister(1)\n",
    "c1=ClassicalRegister(1)\n",
    "qcir=QuantumCircuit(qreg,c0,c1)\n",
    "# Generation of random qubit by rotating the quantum register at the amount of picked angle.\n",
    "qcir.ry(2*r,qreg[0])\n",
    "qcir.barrier()\n",
    "\n",
    "result = execute(qcir, simulator).result()\n",
    "statevector = result.get_statevector(qcir)\n",
    "state = result.get_statevector()\n",
    "print('The state we encoded is: (%.4f)|000> + (%.4f)|100>\\n' %(state[0].real,state[1].real))\n",
    "\n",
    "\n",
    "# Generation of the entangled state.\n",
    "qcir.h(qreg[1])\n",
    "qcir.cx(qreg[1],qreg[2])\n",
    "qcir.barrier()\n",
    "\n",
    "qcir.cx(qreg[0],qreg[1])\n",
    "qcir.h(qreg[0])\n",
    "qcir.barrier()\n",
    "\n",
    "qcir.measure(qreg[0],c0)\n",
    "qcir.measure(qreg[1],c1)\n",
    "\n",
    "qcir.x(qreg[2]).c_if(c1,1)\n",
    "qcir.z(qreg[2]).c_if(c0,1)\n",
    "\n",
    "result = execute(qcir,simulator).result()\n",
    "print(\"The values of classical registers by statevector_simulator:\")\n",
    "print(result.get_counts()) # The quantum circuit runs 1 time. It gives the values of classical registers.\n",
    "print('Notice that qiskit prints the states in reverse order!')\n",
    "print()\n",
    "\n",
    "print(\"The final state is:\")\n",
    "state = result.get_statevector()\n",
    "for i in range(2):\n",
    "    for j in range(2):\n",
    "        for k in range(2):\n",
    "            print('(%.4f)|%d%d%d>'%(state[i+j*2+k*4].real,i,j,k))"
   ]
  }
 ],
 "metadata": {
  "kernelspec": {
   "display_name": "Python 3",
   "language": "python",
   "name": "python3"
  },
  "language_info": {
   "codemirror_mode": {
    "name": "ipython",
    "version": 3
   },
   "file_extension": ".py",
   "mimetype": "text/x-python",
   "name": "python",
   "nbconvert_exporter": "python",
   "pygments_lexer": "ipython3",
   "version": "3.8.2"
  }
 },
 "nbformat": 4,
 "nbformat_minor": 2
}
