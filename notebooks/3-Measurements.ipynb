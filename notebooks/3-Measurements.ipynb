{
 "cells": [
  {
   "cell_type": "markdown",
   "metadata": {},
   "source": [
    "# Measurements in Quantum Computing"
   ]
  },
  {
   "cell_type": "markdown",
   "metadata": {},
   "source": [
    "The field of estimating the quantum state of qubits is usually referred to as quantum tomography. It includes many sophisticated ways of estimating the state with the least error. In this notebook we will briefly look into these errors.\n",
    "\n",
    "One can encode classical data to qubits using less bits. However, one should also consider if all of the information is readily available to read-out. In quantum systems, result of a measurement only yields one of the possible states. Therefore, one needs to consider methods to recover the state fully.\n",
    "\n",
    "The most straightforward way of recovering the state is having multiple measurements and averaging the outcomes. If N is the number of measurements, one can express the probability in this case as;\n",
    "\n",
    "$$ \\hat{p} = \\bar{p} = \\sum_{i=1}^{N} y_i $$ \n"
   ]
  },
  {
   "cell_type": "markdown",
   "metadata": {},
   "source": [
    "Then, one can define a *confidence interval* for the observations as: $[p-\\epsilon,p+\\epsilon]$. Let's do a quantum coin flipping experiment and observe the change of interval."
   ]
  },
  {
   "cell_type": "code",
   "execution_count": 1,
   "metadata": {},
   "outputs": [
    {
     "name": "stderr",
     "output_type": "stream",
     "text": [
      "\n",
      "Bad key \"text.kerning_factor\" on line 4 in\n",
      "/opt/anaconda3/envs/quantum/lib/python3.8/site-packages/matplotlib/mpl-data/stylelib/_classic_test_patch.mplstyle.\n",
      "You probably need to get an updated matplotlibrc file from\n",
      "https://github.com/matplotlib/matplotlib/blob/v3.1.3/matplotlibrc.template\n",
      "or from the matplotlib source distribution\n"
     ]
    }
   ],
   "source": [
    "# imports\n",
    "from qiskit import QuantumRegister, ClassicalRegister, QuantumCircuit, execute, Aer\n",
    "%matplotlib inline\n",
    "import matplotlib.pyplot as plt"
   ]
  },
  {
   "cell_type": "code",
   "execution_count": 2,
   "metadata": {},
   "outputs": [],
   "source": [
    "# Let's define a circuit that takes number of executions as input and returns the observations.\n",
    "def quantum_coin_flip(shots=1000):\n",
    "    qreg     =  QuantumRegister(1)   \n",
    "    creg     = ClassicalRegister(1) \n",
    "    qcircuit = QuantumCircuit(qreg,creg)\n",
    "    qcircuit.h(qreg)\n",
    "    qcircuit.measure(qreg,creg)\n",
    "    job      = execute(qcircuit,Aer.get_backend('qasm_simulator'),shots=shots)\n",
    "    counts   = job.result().get_counts(qcircuit)\n",
    "    return counts\n",
    "\n",
    "# Let's also define a function that calculates the error bars\n",
    "def error(counts):\n",
    "    error0 = abs(0.5 - counts['0']/(counts['0']+counts['1']))\n",
    "    error1 = abs(0.5 - counts['1']/(counts['0']+counts['1']))\n",
    "    return max(error0,error1)"
   ]
  },
  {
   "cell_type": "markdown",
   "metadata": {},
   "source": [
    "Now, we can test the circuit for multiple measurements."
   ]
  },
  {
   "cell_type": "code",
   "execution_count": 3,
   "metadata": {},
   "outputs": [
    {
     "data": {
      "image/png": "[encoded data removed]",
      "text/plain": [
       "<Figure size 432x288 with 1 Axes>"
      ]
     },
     "metadata": {
      "needs_background": "light"
     },
     "output_type": "display_data"
    }
   ],
   "source": [
    "x = [1e+1,1e+2,1e+3,1e+4,1e+5,1e+6]\n",
    "p = []\n",
    "for shots in x:\n",
    "    counts = quantum_coin_flip(shots=shots)\n",
    "    p.append(error(counts))\n",
    "\n",
    "plt.yscale('log')\n",
    "plt.xscale('log')\n",
    "plt.xlabel(r'$N_{measurements}$')\n",
    "plt.ylabel('error')\n",
    "plt.plot(x,p);"
   ]
  },
  {
   "cell_type": "markdown",
   "metadata": {},
   "source": [
    "Notice that how the error decreases as *N* grows. In fact the error bars scale with $\\mathcal{O}(1/\\sqrt{N})$. Therefore, when recovering a quantum state fully, the number of measurements that is needed depends on the required precision. And the number of measurements needed scales with $\\mathcal{O}(\\epsilon^{-2})$.\n",
    "\n",
    "Also notice that the above plot is a simulation and not the exact result. Therefore, it is easy to get unwanted results when working with small N."
   ]
  },
  {
   "cell_type": "markdown",
   "metadata": {},
   "source": [
    "For further reading readers can refer to Chapter 5.1.3 from Schuld's Book."
   ]
  },
  {
   "cell_type": "markdown",
   "metadata": {},
   "source": [
    "References:\n",
    "\n",
    "1. [Schuld, Maria, Petruccione, Francesco. Supervised Learning with Quantum Computers](https://www.springer.com/gp/book/9783319964232)"
   ]
  }
 ],
 "metadata": {
  "kernelspec": {
   "display_name": "Python 3",
   "language": "python",
   "name": "python3"
  },
  "language_info": {
   "codemirror_mode": {
    "name": "ipython",
    "version": 3
   },
   "file_extension": ".py",
   "mimetype": "text/x-python",
   "name": "python",
   "nbconvert_exporter": "python",
   "pygments_lexer": "ipython3",
   "version": "3.8.2"
  }
 },
 "nbformat": 4,
 "nbformat_minor": 4
}
