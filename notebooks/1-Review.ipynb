{
 "cells": [
  {
   "cell_type": "markdown",
   "metadata": {},
   "source": [
    "<table>\n",
    "    <tr><td align=\"right\" style=\"color:#777777;background-color:#ffffff;font-size:12px;\">\n",
    "          Prepared by Cenk Tüysüz\n",
    "    <tr><td align=\"right\" style=\"color:#bbbbbb;background-color:#ffffff;font-size:11px;font-style:italic;\">\n",
    "        This cell contains some macros. If there is a problem with displaying mathematical formulas, please run this cell to load these macros.\n",
    "    </td></tr>\n",
    "</table>\n",
    "$ \\newcommand{\\bra}[1]{\\langle #1|} $\n",
    "$ \\newcommand{\\ket}[1]{|#1\\rangle} $\n",
    "$ \\newcommand{\\braket}[2]{\\langle #1|#2\\rangle} $\n",
    "$ \\newcommand{\\dot}[2]{ #1 \\cdot #2} $\n",
    "$ \\newcommand{\\biginner}[2]{\\left\\langle #1,#2\\right\\rangle} $\n",
    "$ \\newcommand{\\mymatrix}[2]{\\left( \\begin{array}{#1} #2\\end{array} \\right)} $\n",
    "$ \\newcommand{\\myvector}[1]{\\mymatrix{c}{#1}} $\n",
    "$ \\newcommand{\\myrvector}[1]{\\mymatrix{r}{#1}} $\n",
    "$ \\newcommand{\\mypar}[1]{\\left( #1 \\right)} $\n",
    "$ \\newcommand{\\mybigpar}[1]{ \\Big( #1 \\Big)} $\n",
    "$ \\newcommand{\\sqrttwo}{\\frac{1}{\\sqrt{2}}} $\n",
    "$ \\newcommand{\\dsqrttwo}{\\dfrac{1}{\\sqrt{2}}} $\n",
    "$ \\newcommand{\\onehalf}{\\frac{1}{2}} $\n",
    "$ \\newcommand{\\donehalf}{\\dfrac{1}{2}} $\n",
    "$ \\newcommand{\\hadamard}{ \\mymatrix{rr}{ \\sqrttwo & \\sqrttwo \\\\ \\sqrttwo & -\\sqrttwo }} $\n",
    "$ \\newcommand{\\vzero}{\\myvector{1\\\\0}} $\n",
    "$ \\newcommand{\\vone}{\\myvector{0\\\\1}} $\n",
    "$ \\newcommand{\\vhadamardzero}{\\myvector{ \\sqrttwo \\\\  \\sqrttwo } } $\n",
    "$ \\newcommand{\\vhadamardone}{ \\myrvector{ \\sqrttwo \\\\ -\\sqrttwo } } $\n",
    "$ \\newcommand{\\myarray}[2]{ \\begin{array}{#1}#2\\end{array}} $\n",
    "$ \\newcommand{\\X}{ \\mymatrix{cc}{0 & 1 \\\\ 1 & 0}  } $\n",
    "$ \\newcommand{\\Z}{ \\mymatrix{rr}{1 & 0 \\\\ 0 & -1}  } $\n",
    "$ \\newcommand{\\Y}{ \\mymatrix{cc}{0 & -i \\\\ i & 0}  } $\n",
    "$ \\newcommand{\\Htwo}{ \\mymatrix{rrrr}{ \\frac{1}{2} & \\frac{1}{2} & \\frac{1}{2} & \\frac{1}{2} \\\\ \\frac{1}{2} & -\\frac{1}{2} & \\frac{1}{2} & -\\frac{1}{2} \\\\ \\frac{1}{2} & \\frac{1}{2} & -\\frac{1}{2} & -\\frac{1}{2} \\\\ \\frac{1}{2} & -\\frac{1}{2} & -\\frac{1}{2} & \\frac{1}{2} } } $\n",
    "$ \\newcommand{\\CNOT}{ \\mymatrix{cccc}{1 & 0 & 0 & 0 \\\\ 0 & 1 & 0 & 0 \\\\ 0 & 0 & 0 & 1 \\\\ 0 & 0 & 1 & 0} } $\n",
    "$ \\newcommand{\\norm}[1]{ \\left\\lVert #1 \\right\\rVert } $"
   ]
  },
  {
   "cell_type": "markdown",
   "metadata": {},
   "source": [
    "# Review\n",
    "##  1- Single Qubit Gates"
   ]
  },
  {
   "cell_type": "markdown",
   "metadata": {},
   "source": [
    "Let's start by a short review of definition we use in Quantum Computing.\n",
    "\n",
    "In Q.C. we have qubits that we do operations on. We can represent these qubits in a couple of ways. One the most useful notations for beginners is the matrix notation. \n",
    "\n",
    "We denote a qubit with spin up in the z-direction with $\\ket{0}$ or $\\ket{\\uparrow;z}$. \n",
    "\n",
    "In matrix form it becomes:\n",
    "\n",
    "$$ \\ket{0} = \\myvector{1 \\\\ 0} $$\n",
    "\n",
    "The spin down state in the z-direction is $ \\ket{1} $ or $ \\ket{\\downarrow;z}$. And in matrix form:\n",
    "\n",
    "\n",
    "$$ \\ket{1} = \\myvector{0 \\\\ 1} $$\n",
    "\n",
    "Here, it is important to note that the choice of direction is arbitrary. The z-direction is chosen as a convention and widely used in Quantum Mechanics. After defining $\\ket{0}$ and $\\ket{1}$ states, it is easy to derive the matrix form of the states $ \\ket{\\uparrow;x}, \\ket{\\downarrow;x}, \\ket{\\uparrow;y} and \\ket{\\downarrow;y} $\n",
    "\n",
    "$$ \\ket{+} = \\ket{\\uparrow;x}= \\frac{1}{\\sqrt{2}} \\ket{0} + \\frac{1}{\\sqrt{2}} \\ket{1} = \\frac{1}{\\sqrt{2}}\\myvector{1 \\\\ 1} $$\n",
    "\n",
    "$$ \\ket{-} = \\ket{\\downarrow;x}=\\frac{1}{\\sqrt{2}} \\ket{0} - \\frac{1}{\\sqrt{2}} \\ket{1} = \\frac{1}{\\sqrt{2}}\\myvector{1 \\\\ -1} $$\n",
    "\n",
    "$$ \\ket{\\uparrow;y}= \\frac{1}{\\sqrt{2}} \\ket{0} + \\frac{i}{\\sqrt{2}} \\ket{1} = \\frac{1}{\\sqrt{2}}\\myvector{1 \\\\ i} $$\n",
    "\n",
    "$$ \\ket{\\downarrow;y}= \\frac{1}{\\sqrt{2}} \\ket{0} - \\frac{i}{\\sqrt{2}} \\ket{1} = \\frac{1}{\\sqrt{2}}\\myvector{1 \\\\ -i} $$"
   ]
  },
  {
   "cell_type": "markdown",
   "metadata": {},
   "source": [
    "These states defines the possible basis states of the Hilbert State. One can select a basis to do operations on it. Now, let's look at what kind of operations we can do with these states."
   ]
  },
  {
   "cell_type": "markdown",
   "metadata": {},
   "source": [
    "### X Gate\n",
    "\n",
    "X gate is defined very similar to the NOT gate in classical computation theory. It has the below truth table:\n",
    "\n",
    "$$ X\\ket{0} = \\ket{1} $$\n",
    "$$ X\\ket{1} = \\ket{0} $$\n",
    "\n",
    "In matrix form it is expressed as:\n",
    "\n",
    "$$X = \\X $$"
   ]
  },
  {
   "cell_type": "markdown",
   "metadata": {},
   "source": [
    "### Z Gate\n",
    "\n",
    "Z Gate is the Pauli Z matrix. Applying the Z Gate to z-basis states yields their eigenvalues:\n",
    "\n",
    "$$ Z\\ket{0} = +\\ket{0} $$\n",
    "$$ Z\\ket{1} = -\\ket{1} $$\n",
    "\n",
    "In matrix form it is expressed as:\n",
    "\n",
    "$$Z = \\Z $$\n"
   ]
  },
  {
   "cell_type": "markdown",
   "metadata": {},
   "source": [
    "### Y Gate\n",
    "\n",
    "Similar to X and Z Gate, Y Gate is the corresponding Pauli matrix. \n",
    "\n",
    "$$Y = \\Y $$\n"
   ]
  },
  {
   "cell_type": "markdown",
   "metadata": {},
   "source": [
    "Notice that applying any matrix to their eigenstates yields the corresponding eigenvalues. \n",
    "\n",
    "$$ Z\\ket{0} = +\\ket{0} $$\n",
    "\n",
    "$$ Z\\ket{1} = -\\ket{1} $$\n",
    "\n",
    "$$ X\\ket{+} = +\\ket{+} $$\n",
    "\n",
    "$$ X\\ket{-} = -\\ket{-} $$\n",
    "\n",
    "$$ Y\\ket{\\uparrow;y} = +\\ket{\\uparrow;y} $$\n",
    "\n",
    "$$ Y\\ket{\\downarrow;y} = -\\ket{\\downarrow;y} $$\n"
   ]
  },
  {
   "cell_type": "markdown",
   "metadata": {},
   "source": [
    "### Hadamard Gate\n",
    "\n",
    "Hadamard gate is defined as:\n",
    "    \n",
    "$$ H = \\hadamard $$\n",
    "\n",
    "$$ H \\ket{0} = \\frac{1}{\\sqrt{2}} \\ket{0} + \\frac{1}{\\sqrt{2}} \\ket{1} $$\n",
    "\n",
    "$$ H \\ket{1} = \\frac{1}{\\sqrt{2}} \\ket{0} - \\frac{1}{\\sqrt{2}} \\ket{1} $$"
   ]
  },
  {
   "cell_type": "markdown",
   "metadata": {},
   "source": [
    "### $R_y$ Gate"
   ]
  },
  {
   "cell_type": "markdown",
   "metadata": {},
   "source": [
    "Ry Gate is a parametric gate. It rotates qubit with respect to the y-axis with the given angle. It is defined as:\n",
    "\n",
    "$$ R_y(\\theta) = \\mymatrix{cc}{cos(\\theta/2) & -sin(\\theta/2) \\\\ sin(\\theta/2) & cos(\\theta/2)} $$\n",
    "\n",
    "As y-direction is not special there are also $R_x$ and $R_z$ gates, which follow the same logic."
   ]
  },
  {
   "cell_type": "markdown",
   "metadata": {},
   "source": [
    "### U_3 Gate"
   ]
  },
  {
   "cell_type": "markdown",
   "metadata": {},
   "source": [
    "U_3 is the general rotation gate. It defines rotations in all three axes allowing the representation of any gates. Since all Quantum Gates are Unitary operations all of them can be expressed as a rotation and therefore as a parametrized U_3 gate. Its parametric form is given as:\n",
    "\n",
    "$$ U_3(\\theta,\\lambda,\\phi) = \\mymatrix{cc}{cos(\\theta/2) & -e^{i\\lambda}sin(\\theta/2) \\\\ e^{i\\phi}sin(\\theta/2) & e^{i(\\phi+\\lambda)}cos(\\theta/2)} $$\n",
    "\n",
    "Notice that;\n",
    "\n",
    "$$ U_3(\\theta,0,0) = R_y(\\theta) $$\n",
    "\n",
    "$$ U_3(\\pi/2,\\pi,0) = H$$\n",
    "\n",
    "and similarly, all Unitary operations can be expressed using the $U_3$ gate."
   ]
  },
  {
   "cell_type": "markdown",
   "metadata": {},
   "source": [
    "## 2 - Two Qubit Gates"
   ]
  },
  {
   "cell_type": "markdown",
   "metadata": {},
   "source": [
    "### CNOT Gate"
   ]
  },
  {
   "cell_type": "markdown",
   "metadata": {},
   "source": [
    "CNOT Gate is defined as:\n",
    "\n",
    "$$ CNOT = \\CNOT $$\n",
    "\n",
    "$$ CNOT \\ket{0} \\otimes \\ket{0} = \\ket{0} \\otimes \\ket{0} $$\n",
    "\n",
    "$$ CNOT \\ket{0} \\otimes \\ket{1} = \\ket{0} \\otimes \\ket{1} $$\n",
    "\n",
    "$$ CNOT \\ket{1} \\otimes \\ket{0} = \\ket{1} \\otimes \\ket{1} $$\n",
    "\n",
    "$$ CNOT \\ket{1} \\otimes \\ket{1} = \\ket{1} \\otimes \\ket{0} $$"
   ]
  },
  {
   "cell_type": "markdown",
   "metadata": {},
   "source": [
    "### Controlled Unitary Gates"
   ]
  },
  {
   "cell_type": "markdown",
   "metadata": {},
   "source": [
    "Following the logic of the CNOT gate, all gates can be written in a controlled form, making them 2-quit controlled unitary gates."
   ]
  },
  {
   "cell_type": "markdown",
   "metadata": {},
   "source": [
    "## 3 - Multiple Qubit Gates"
   ]
  },
  {
   "cell_type": "markdown",
   "metadata": {},
   "source": [
    "We can extend the use of gates with the idea of controlled unitaries. More control operation can be cascaded to obtain multiple qubit gates."
   ]
  },
  {
   "cell_type": "markdown",
   "metadata": {},
   "source": [
    "\n",
    "\n",
    "*This notebook is prepared to refresh your memory on Quantum Gates and their matrix representation. For further reading please refer to resources below.*"
   ]
  },
  {
   "cell_type": "markdown",
   "metadata": {},
   "source": [
    "## References\n",
    "\n",
    "1. [Qiskit Textbook](https://qiskit.org/textbook/ch-states/single-qubit-gates.html)\n",
    "\n",
    "2. [Nielsen, M., & Chuang, I. (2010). Quantum Computation and Quantum Information: 10th Anniversary Edition. Cambridge: Cambridge University Press. doi:10.1017/CBO9780511976667](https://www.cambridge.org/core/books/quantum-computation-and-quantum-information/01E10196D0A682A6AEFFEA52D53BE9AE)\n",
    "\n",
    "3. [Çevik, A., Quantum Computing Lecture Notes](http://ahmetcevik.com/wp-content/uploads/2020/03/Quantum-computing-lecture-notes.pdf)"
   ]
  }
 ],
 "metadata": {
  "kernelspec": {
   "display_name": "Python 3",
   "language": "python",
   "name": "python3"
  },
  "language_info": {
   "codemirror_mode": {
    "name": "ipython",
    "version": 3
   },
   "file_extension": ".py",
   "mimetype": "text/x-python",
   "name": "python",
   "nbconvert_exporter": "python",
   "pygments_lexer": "ipython3",
   "version": "3.8.2"
  }
 },
 "nbformat": 4,
 "nbformat_minor": 4
}
